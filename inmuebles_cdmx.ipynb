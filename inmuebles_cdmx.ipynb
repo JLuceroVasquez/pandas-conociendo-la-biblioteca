{
  "nbformat": 4,
  "nbformat_minor": 0,
  "metadata": {
    "colab": {
      "provenance": [],
      "include_colab_link": true
    },
    "kernelspec": {
      "name": "python3",
      "display_name": "Python 3"
    },
    "language_info": {
      "name": "python"
    }
  },
  "cells": [
    {
      "cell_type": "markdown",
      "metadata": {
        "id": "view-in-github",
        "colab_type": "text"
      },
      "source": [
        "<a href=\"https://colab.research.google.com/github/JLuceroVasquez/pandas-conociendo-la-biblioteca/blob/main/inmuebles_cdmx.ipynb\" target=\"_parent\"><img src=\"https://colab.research.google.com/assets/colab-badge.svg\" alt=\"Open In Colab\"/></a>"
      ]
    },
    {
      "cell_type": "markdown",
      "source": [
        "#Conociendo la biblioteca Pandas\n",
        "Durante el curso se enseño a usar la biblioteca Pandas para la limpieza, manipulación, análisis exploratorio y visualización de datos. También se exploró las características de una base de datos, y enseño como lidiar con valores nulos, eliminar registros, crear columnas (numéricas y categóricas) y aplicar filtros.\n",
        "\n",
        "Con fines didácticos, se aplicaron los conocimientos en un proyecto de clase. El proyecto consistió en brindar soporte a las demandas del equipo de Aprendizaje Automático y del equipo de Desarrollo de una empresa inmobiliaria de México.\n",
        "\n",
        "La base de datos que vamos a utilizar para desarrollar el proyecto es una base de datos que contiene información sobre diferentes tipos de propiedades en Ciudad de México (CDMX), como departamentos, casas, locales comerciales, entre otros."
      ],
      "metadata": {
        "id": "VFPUFRnthEuA"
      }
    },
    {
      "cell_type": "code",
      "source": [
        "https://gist.githubusercontent.com/ahcamachod/a572cfcc2527046db93101f88011b26e/raw/ffb13f45a79d31223e645611a119397dd127ee3c/alquiler.csv"
      ],
      "metadata": {
        "id": "OEHRMc8kMFFI"
      },
      "execution_count": null,
      "outputs": []
    }
  ]
}